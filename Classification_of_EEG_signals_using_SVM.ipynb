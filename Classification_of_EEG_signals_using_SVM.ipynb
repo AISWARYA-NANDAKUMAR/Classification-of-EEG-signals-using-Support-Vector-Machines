{
  "nbformat": 4,
  "nbformat_minor": 0,
  "metadata": {
    "colab": {
      "name": "Classification of EEG signals using SVM.ipynb",
      "provenance": [],
      "collapsed_sections": []
    },
    "kernelspec": {
      "name": "python3",
      "display_name": "Python 3"
    },
    "language_info": {
      "name": "python"
    }
  },
  "cells": [
    {
      "cell_type": "code",
      "metadata": {
        "colab": {
          "base_uri": "https://localhost:8080/"
        },
        "id": "S-YTDd1n6HIz",
        "outputId": "04e3bfdb-02c3-42a6-f724-3dff8c662496"
      },
      "source": [
        "#import dataset\n",
        "from google.colab import drive\n",
        "drive.mount('/content/drive')\n",
        "#Loading the Dataset\n",
        "\n",
        "import pandas as pd\n",
        "\n",
        "path = '/content/drive/MyDrive/Random forest SVM Decision trees/data.txt'\n",
        "df = pd.read_csv(path,sep=',')\n",
        "df.columns = ['0', '1', '2', '3', '4','5','6','7','8','9','10','11','12','13','target_class']\n",
        "df.head()\n",
        "inputs=df.drop('target_class',axis='columns')"
      ],
      "execution_count": null,
      "outputs": [
        {
          "output_type": "stream",
          "text": [
            "Mounted at /content/drive\n"
          ],
          "name": "stdout"
        }
      ]
    },
    {
      "cell_type": "code",
      "metadata": {
        "colab": {
          "base_uri": "https://localhost:8080/",
          "height": 439
        },
        "id": "wPJe3vDekIuB",
        "outputId": "f1eae8d3-78c7-4bae-bb49-c75f9aff8ccb"
      },
      "source": [
        "df['mean']=inputs.mean(axis=1)\n",
        "df['min'] = inputs.min(axis=1)\n",
        "df['max']=inputs.max(axis=1)\n",
        "df['stddev']=inputs.std(axis=1)\n",
        "df['skew']=inputs.skew(axis=1)\n",
        "df['kurtosis']=inputs.kurtosis(axis=1)\n",
        "df"
      ],
      "execution_count": null,
      "outputs": [
        {
          "output_type": "execute_result",
          "data": {
            "text/html": [
              "<div>\n",
              "<style scoped>\n",
              "    .dataframe tbody tr th:only-of-type {\n",
              "        vertical-align: middle;\n",
              "    }\n",
              "\n",
              "    .dataframe tbody tr th {\n",
              "        vertical-align: top;\n",
              "    }\n",
              "\n",
              "    .dataframe thead th {\n",
              "        text-align: right;\n",
              "    }\n",
              "</style>\n",
              "<table border=\"1\" class=\"dataframe\">\n",
              "  <thead>\n",
              "    <tr style=\"text-align: right;\">\n",
              "      <th></th>\n",
              "      <th>0</th>\n",
              "      <th>1</th>\n",
              "      <th>2</th>\n",
              "      <th>3</th>\n",
              "      <th>4</th>\n",
              "      <th>5</th>\n",
              "      <th>6</th>\n",
              "      <th>7</th>\n",
              "      <th>8</th>\n",
              "      <th>9</th>\n",
              "      <th>10</th>\n",
              "      <th>11</th>\n",
              "      <th>12</th>\n",
              "      <th>13</th>\n",
              "      <th>target_class</th>\n",
              "      <th>mean</th>\n",
              "      <th>min</th>\n",
              "      <th>max</th>\n",
              "      <th>stddev</th>\n",
              "      <th>skew</th>\n",
              "      <th>kurtosis</th>\n",
              "    </tr>\n",
              "  </thead>\n",
              "  <tbody>\n",
              "    <tr>\n",
              "      <th>0</th>\n",
              "      <td>4324.62</td>\n",
              "      <td>4004.62</td>\n",
              "      <td>4293.85</td>\n",
              "      <td>4148.72</td>\n",
              "      <td>4342.05</td>\n",
              "      <td>4586.67</td>\n",
              "      <td>4097.44</td>\n",
              "      <td>4638.97</td>\n",
              "      <td>4210.77</td>\n",
              "      <td>4226.67</td>\n",
              "      <td>4207.69</td>\n",
              "      <td>4279.49</td>\n",
              "      <td>4632.82</td>\n",
              "      <td>4384.10</td>\n",
              "      <td>0</td>\n",
              "      <td>4312.748571</td>\n",
              "      <td>4004.62</td>\n",
              "      <td>4638.97</td>\n",
              "      <td>193.848817</td>\n",
              "      <td>0.516201</td>\n",
              "      <td>-0.404560</td>\n",
              "    </tr>\n",
              "    <tr>\n",
              "      <th>1</th>\n",
              "      <td>4327.69</td>\n",
              "      <td>4006.67</td>\n",
              "      <td>4295.38</td>\n",
              "      <td>4156.41</td>\n",
              "      <td>4336.92</td>\n",
              "      <td>4583.59</td>\n",
              "      <td>4096.92</td>\n",
              "      <td>4630.26</td>\n",
              "      <td>4207.69</td>\n",
              "      <td>4222.05</td>\n",
              "      <td>4206.67</td>\n",
              "      <td>4282.05</td>\n",
              "      <td>4628.72</td>\n",
              "      <td>4389.23</td>\n",
              "      <td>0</td>\n",
              "      <td>4312.160714</td>\n",
              "      <td>4006.67</td>\n",
              "      <td>4630.26</td>\n",
              "      <td>191.577798</td>\n",
              "      <td>0.498363</td>\n",
              "      <td>-0.434202</td>\n",
              "    </tr>\n",
              "    <tr>\n",
              "      <th>2</th>\n",
              "      <td>4328.72</td>\n",
              "      <td>4011.79</td>\n",
              "      <td>4296.41</td>\n",
              "      <td>4155.90</td>\n",
              "      <td>4343.59</td>\n",
              "      <td>4582.56</td>\n",
              "      <td>4097.44</td>\n",
              "      <td>4630.77</td>\n",
              "      <td>4217.44</td>\n",
              "      <td>4235.38</td>\n",
              "      <td>4210.77</td>\n",
              "      <td>4287.69</td>\n",
              "      <td>4632.31</td>\n",
              "      <td>4396.41</td>\n",
              "      <td>0</td>\n",
              "      <td>4316.227143</td>\n",
              "      <td>4011.79</td>\n",
              "      <td>4632.31</td>\n",
              "      <td>190.543938</td>\n",
              "      <td>0.475085</td>\n",
              "      <td>-0.438601</td>\n",
              "    </tr>\n",
              "    <tr>\n",
              "      <th>3</th>\n",
              "      <td>4326.15</td>\n",
              "      <td>4011.79</td>\n",
              "      <td>4292.31</td>\n",
              "      <td>4151.28</td>\n",
              "      <td>4347.69</td>\n",
              "      <td>4586.67</td>\n",
              "      <td>4095.90</td>\n",
              "      <td>4627.69</td>\n",
              "      <td>4210.77</td>\n",
              "      <td>4244.10</td>\n",
              "      <td>4212.82</td>\n",
              "      <td>4288.21</td>\n",
              "      <td>4632.82</td>\n",
              "      <td>4398.46</td>\n",
              "      <td>0</td>\n",
              "      <td>4316.190000</td>\n",
              "      <td>4011.79</td>\n",
              "      <td>4632.82</td>\n",
              "      <td>191.157855</td>\n",
              "      <td>0.466112</td>\n",
              "      <td>-0.467151</td>\n",
              "    </tr>\n",
              "    <tr>\n",
              "      <th>4</th>\n",
              "      <td>4321.03</td>\n",
              "      <td>4004.62</td>\n",
              "      <td>4284.10</td>\n",
              "      <td>4153.33</td>\n",
              "      <td>4345.64</td>\n",
              "      <td>4587.18</td>\n",
              "      <td>4093.33</td>\n",
              "      <td>4616.92</td>\n",
              "      <td>4202.56</td>\n",
              "      <td>4232.82</td>\n",
              "      <td>4209.74</td>\n",
              "      <td>4281.03</td>\n",
              "      <td>4628.21</td>\n",
              "      <td>4389.74</td>\n",
              "      <td>0</td>\n",
              "      <td>4310.732143</td>\n",
              "      <td>4004.62</td>\n",
              "      <td>4628.21</td>\n",
              "      <td>190.916744</td>\n",
              "      <td>0.473246</td>\n",
              "      <td>-0.456949</td>\n",
              "    </tr>\n",
              "    <tr>\n",
              "      <th>...</th>\n",
              "      <td>...</td>\n",
              "      <td>...</td>\n",
              "      <td>...</td>\n",
              "      <td>...</td>\n",
              "      <td>...</td>\n",
              "      <td>...</td>\n",
              "      <td>...</td>\n",
              "      <td>...</td>\n",
              "      <td>...</td>\n",
              "      <td>...</td>\n",
              "      <td>...</td>\n",
              "      <td>...</td>\n",
              "      <td>...</td>\n",
              "      <td>...</td>\n",
              "      <td>...</td>\n",
              "      <td>...</td>\n",
              "      <td>...</td>\n",
              "      <td>...</td>\n",
              "      <td>...</td>\n",
              "      <td>...</td>\n",
              "      <td>...</td>\n",
              "    </tr>\n",
              "    <tr>\n",
              "      <th>14974</th>\n",
              "      <td>4281.03</td>\n",
              "      <td>3990.26</td>\n",
              "      <td>4245.64</td>\n",
              "      <td>4116.92</td>\n",
              "      <td>4333.85</td>\n",
              "      <td>4614.36</td>\n",
              "      <td>4074.87</td>\n",
              "      <td>4625.64</td>\n",
              "      <td>4203.08</td>\n",
              "      <td>4221.54</td>\n",
              "      <td>4171.28</td>\n",
              "      <td>4269.23</td>\n",
              "      <td>4593.33</td>\n",
              "      <td>4340.51</td>\n",
              "      <td>1</td>\n",
              "      <td>4291.538571</td>\n",
              "      <td>3990.26</td>\n",
              "      <td>4625.64</td>\n",
              "      <td>197.914372</td>\n",
              "      <td>0.612271</td>\n",
              "      <td>-0.387546</td>\n",
              "    </tr>\n",
              "    <tr>\n",
              "      <th>14975</th>\n",
              "      <td>4276.92</td>\n",
              "      <td>3991.79</td>\n",
              "      <td>4245.13</td>\n",
              "      <td>4110.77</td>\n",
              "      <td>4332.82</td>\n",
              "      <td>4615.38</td>\n",
              "      <td>4073.33</td>\n",
              "      <td>4621.54</td>\n",
              "      <td>4194.36</td>\n",
              "      <td>4217.44</td>\n",
              "      <td>4162.56</td>\n",
              "      <td>4259.49</td>\n",
              "      <td>4590.26</td>\n",
              "      <td>4333.33</td>\n",
              "      <td>1</td>\n",
              "      <td>4287.508571</td>\n",
              "      <td>3991.79</td>\n",
              "      <td>4621.54</td>\n",
              "      <td>198.327195</td>\n",
              "      <td>0.644776</td>\n",
              "      <td>-0.400887</td>\n",
              "    </tr>\n",
              "    <tr>\n",
              "      <th>14976</th>\n",
              "      <td>4277.44</td>\n",
              "      <td>3990.77</td>\n",
              "      <td>4246.67</td>\n",
              "      <td>4113.85</td>\n",
              "      <td>4333.33</td>\n",
              "      <td>4615.38</td>\n",
              "      <td>4072.82</td>\n",
              "      <td>4623.59</td>\n",
              "      <td>4193.33</td>\n",
              "      <td>4212.82</td>\n",
              "      <td>4160.51</td>\n",
              "      <td>4257.95</td>\n",
              "      <td>4591.79</td>\n",
              "      <td>4339.49</td>\n",
              "      <td>1</td>\n",
              "      <td>4287.838571</td>\n",
              "      <td>3990.77</td>\n",
              "      <td>4623.59</td>\n",
              "      <td>199.105595</td>\n",
              "      <td>0.641817</td>\n",
              "      <td>-0.415883</td>\n",
              "    </tr>\n",
              "    <tr>\n",
              "      <th>14977</th>\n",
              "      <td>4284.62</td>\n",
              "      <td>3991.79</td>\n",
              "      <td>4251.28</td>\n",
              "      <td>4122.05</td>\n",
              "      <td>4334.36</td>\n",
              "      <td>4616.41</td>\n",
              "      <td>4080.51</td>\n",
              "      <td>4628.72</td>\n",
              "      <td>4200.00</td>\n",
              "      <td>4220.00</td>\n",
              "      <td>4165.64</td>\n",
              "      <td>4267.18</td>\n",
              "      <td>4596.41</td>\n",
              "      <td>4350.77</td>\n",
              "      <td>1</td>\n",
              "      <td>4293.552857</td>\n",
              "      <td>3991.79</td>\n",
              "      <td>4628.72</td>\n",
              "      <td>198.490982</td>\n",
              "      <td>0.616735</td>\n",
              "      <td>-0.410967</td>\n",
              "    </tr>\n",
              "    <tr>\n",
              "      <th>14978</th>\n",
              "      <td>4287.69</td>\n",
              "      <td>3997.44</td>\n",
              "      <td>4260.00</td>\n",
              "      <td>4121.03</td>\n",
              "      <td>4333.33</td>\n",
              "      <td>4616.41</td>\n",
              "      <td>4088.72</td>\n",
              "      <td>4638.46</td>\n",
              "      <td>4212.31</td>\n",
              "      <td>4226.67</td>\n",
              "      <td>4167.69</td>\n",
              "      <td>4274.36</td>\n",
              "      <td>4597.95</td>\n",
              "      <td>4350.77</td>\n",
              "      <td>1</td>\n",
              "      <td>4298.059286</td>\n",
              "      <td>3997.44</td>\n",
              "      <td>4638.46</td>\n",
              "      <td>197.732176</td>\n",
              "      <td>0.623356</td>\n",
              "      <td>-0.379600</td>\n",
              "    </tr>\n",
              "  </tbody>\n",
              "</table>\n",
              "<p>14979 rows × 21 columns</p>\n",
              "</div>"
            ],
            "text/plain": [
              "             0        1        2  ...      stddev      skew  kurtosis\n",
              "0      4324.62  4004.62  4293.85  ...  193.848817  0.516201 -0.404560\n",
              "1      4327.69  4006.67  4295.38  ...  191.577798  0.498363 -0.434202\n",
              "2      4328.72  4011.79  4296.41  ...  190.543938  0.475085 -0.438601\n",
              "3      4326.15  4011.79  4292.31  ...  191.157855  0.466112 -0.467151\n",
              "4      4321.03  4004.62  4284.10  ...  190.916744  0.473246 -0.456949\n",
              "...        ...      ...      ...  ...         ...       ...       ...\n",
              "14974  4281.03  3990.26  4245.64  ...  197.914372  0.612271 -0.387546\n",
              "14975  4276.92  3991.79  4245.13  ...  198.327195  0.644776 -0.400887\n",
              "14976  4277.44  3990.77  4246.67  ...  199.105595  0.641817 -0.415883\n",
              "14977  4284.62  3991.79  4251.28  ...  198.490982  0.616735 -0.410967\n",
              "14978  4287.69  3997.44  4260.00  ...  197.732176  0.623356 -0.379600\n",
              "\n",
              "[14979 rows x 21 columns]"
            ]
          },
          "metadata": {
            "tags": []
          },
          "execution_count": 4
        }
      ]
    },
    {
      "cell_type": "code",
      "metadata": {
        "colab": {
          "base_uri": "https://localhost:8080/"
        },
        "id": "dAaJ14YEkYoO",
        "outputId": "4071be19-6aba-4e87-9bb7-defeb7701474"
      },
      "source": [
        "inputs_n=df.drop(['0', '1', '2', '3', '4','5','6','7','8','9','10','11','12','13'],axis='columns')\n",
        "print(inputs_n)\n",
        "df0=inputs_n[df.target_class==0]\n",
        "df1=inputs_n[df.target_class==1]\n",
        "len_df0=len(df0)\n",
        "len_df1=len(df1)\n",
        "print('len_df0',len_df0)\n",
        "print('len_df1',len_df1)"
      ],
      "execution_count": null,
      "outputs": [
        {
          "output_type": "stream",
          "text": [
            "       target_class         mean      min  ...      stddev      skew  kurtosis\n",
            "0                 0  4312.748571  4004.62  ...  193.848817  0.516201 -0.404560\n",
            "1                 0  4312.160714  4006.67  ...  191.577798  0.498363 -0.434202\n",
            "2                 0  4316.227143  4011.79  ...  190.543938  0.475085 -0.438601\n",
            "3                 0  4316.190000  4011.79  ...  191.157855  0.466112 -0.467151\n",
            "4                 0  4310.732143  4004.62  ...  190.916744  0.473246 -0.456949\n",
            "...             ...          ...      ...  ...         ...       ...       ...\n",
            "14974             1  4291.538571  3990.26  ...  197.914372  0.612271 -0.387546\n",
            "14975             1  4287.508571  3991.79  ...  198.327195  0.644776 -0.400887\n",
            "14976             1  4287.838571  3990.77  ...  199.105595  0.641817 -0.415883\n",
            "14977             1  4293.552857  3991.79  ...  198.490982  0.616735 -0.410967\n",
            "14978             1  4298.059286  3997.44  ...  197.732176  0.623356 -0.379600\n",
            "\n",
            "[14979 rows x 7 columns]\n",
            "len_df0 8256\n",
            "len_df1 6723\n"
          ],
          "name": "stdout"
        }
      ]
    },
    {
      "cell_type": "code",
      "metadata": {
        "colab": {
          "base_uri": "https://localhost:8080/",
          "height": 204
        },
        "id": "Ki2ccvd-lSvz",
        "outputId": "19b30831-e6c7-451e-b484-a513ed013683"
      },
      "source": [
        "df0.head()"
      ],
      "execution_count": null,
      "outputs": [
        {
          "output_type": "execute_result",
          "data": {
            "text/html": [
              "<div>\n",
              "<style scoped>\n",
              "    .dataframe tbody tr th:only-of-type {\n",
              "        vertical-align: middle;\n",
              "    }\n",
              "\n",
              "    .dataframe tbody tr th {\n",
              "        vertical-align: top;\n",
              "    }\n",
              "\n",
              "    .dataframe thead th {\n",
              "        text-align: right;\n",
              "    }\n",
              "</style>\n",
              "<table border=\"1\" class=\"dataframe\">\n",
              "  <thead>\n",
              "    <tr style=\"text-align: right;\">\n",
              "      <th></th>\n",
              "      <th>target_class</th>\n",
              "      <th>mean</th>\n",
              "      <th>min</th>\n",
              "      <th>max</th>\n",
              "      <th>stddev</th>\n",
              "      <th>skew</th>\n",
              "      <th>kurtosis</th>\n",
              "    </tr>\n",
              "  </thead>\n",
              "  <tbody>\n",
              "    <tr>\n",
              "      <th>0</th>\n",
              "      <td>0</td>\n",
              "      <td>4312.748571</td>\n",
              "      <td>4004.62</td>\n",
              "      <td>4638.97</td>\n",
              "      <td>193.848817</td>\n",
              "      <td>0.516201</td>\n",
              "      <td>-0.404560</td>\n",
              "    </tr>\n",
              "    <tr>\n",
              "      <th>1</th>\n",
              "      <td>0</td>\n",
              "      <td>4312.160714</td>\n",
              "      <td>4006.67</td>\n",
              "      <td>4630.26</td>\n",
              "      <td>191.577798</td>\n",
              "      <td>0.498363</td>\n",
              "      <td>-0.434202</td>\n",
              "    </tr>\n",
              "    <tr>\n",
              "      <th>2</th>\n",
              "      <td>0</td>\n",
              "      <td>4316.227143</td>\n",
              "      <td>4011.79</td>\n",
              "      <td>4632.31</td>\n",
              "      <td>190.543938</td>\n",
              "      <td>0.475085</td>\n",
              "      <td>-0.438601</td>\n",
              "    </tr>\n",
              "    <tr>\n",
              "      <th>3</th>\n",
              "      <td>0</td>\n",
              "      <td>4316.190000</td>\n",
              "      <td>4011.79</td>\n",
              "      <td>4632.82</td>\n",
              "      <td>191.157855</td>\n",
              "      <td>0.466112</td>\n",
              "      <td>-0.467151</td>\n",
              "    </tr>\n",
              "    <tr>\n",
              "      <th>4</th>\n",
              "      <td>0</td>\n",
              "      <td>4310.732143</td>\n",
              "      <td>4004.62</td>\n",
              "      <td>4628.21</td>\n",
              "      <td>190.916744</td>\n",
              "      <td>0.473246</td>\n",
              "      <td>-0.456949</td>\n",
              "    </tr>\n",
              "  </tbody>\n",
              "</table>\n",
              "</div>"
            ],
            "text/plain": [
              "   target_class         mean      min      max      stddev      skew  kurtosis\n",
              "0             0  4312.748571  4004.62  4638.97  193.848817  0.516201 -0.404560\n",
              "1             0  4312.160714  4006.67  4630.26  191.577798  0.498363 -0.434202\n",
              "2             0  4316.227143  4011.79  4632.31  190.543938  0.475085 -0.438601\n",
              "3             0  4316.190000  4011.79  4632.82  191.157855  0.466112 -0.467151\n",
              "4             0  4310.732143  4004.62  4628.21  190.916744  0.473246 -0.456949"
            ]
          },
          "metadata": {
            "tags": []
          },
          "execution_count": 6
        }
      ]
    },
    {
      "cell_type": "code",
      "metadata": {
        "colab": {
          "base_uri": "https://localhost:8080/",
          "height": 204
        },
        "id": "bYBmlnPNlZXo",
        "outputId": "46bb83f6-2e92-413f-d115-916f4a68d545"
      },
      "source": [
        "df1.head()"
      ],
      "execution_count": null,
      "outputs": [
        {
          "output_type": "execute_result",
          "data": {
            "text/html": [
              "<div>\n",
              "<style scoped>\n",
              "    .dataframe tbody tr th:only-of-type {\n",
              "        vertical-align: middle;\n",
              "    }\n",
              "\n",
              "    .dataframe tbody tr th {\n",
              "        vertical-align: top;\n",
              "    }\n",
              "\n",
              "    .dataframe thead th {\n",
              "        text-align: right;\n",
              "    }\n",
              "</style>\n",
              "<table border=\"1\" class=\"dataframe\">\n",
              "  <thead>\n",
              "    <tr style=\"text-align: right;\">\n",
              "      <th></th>\n",
              "      <th>target_class</th>\n",
              "      <th>mean</th>\n",
              "      <th>min</th>\n",
              "      <th>max</th>\n",
              "      <th>stddev</th>\n",
              "      <th>skew</th>\n",
              "      <th>kurtosis</th>\n",
              "    </tr>\n",
              "  </thead>\n",
              "  <tbody>\n",
              "    <tr>\n",
              "      <th>187</th>\n",
              "      <td>1</td>\n",
              "      <td>4359.560714</td>\n",
              "      <td>4017.95</td>\n",
              "      <td>4810.26</td>\n",
              "      <td>225.163058</td>\n",
              "      <td>0.411502</td>\n",
              "      <td>-0.298664</td>\n",
              "    </tr>\n",
              "    <tr>\n",
              "      <th>188</th>\n",
              "      <td>1</td>\n",
              "      <td>4356.630000</td>\n",
              "      <td>4005.64</td>\n",
              "      <td>4811.28</td>\n",
              "      <td>227.065620</td>\n",
              "      <td>0.390828</td>\n",
              "      <td>-0.258577</td>\n",
              "    </tr>\n",
              "    <tr>\n",
              "      <th>189</th>\n",
              "      <td>1</td>\n",
              "      <td>4346.812857</td>\n",
              "      <td>3998.46</td>\n",
              "      <td>4795.90</td>\n",
              "      <td>226.377595</td>\n",
              "      <td>0.388237</td>\n",
              "      <td>-0.332752</td>\n",
              "    </tr>\n",
              "    <tr>\n",
              "      <th>190</th>\n",
              "      <td>1</td>\n",
              "      <td>4338.756429</td>\n",
              "      <td>3990.26</td>\n",
              "      <td>4783.59</td>\n",
              "      <td>225.591861</td>\n",
              "      <td>0.372586</td>\n",
              "      <td>-0.384140</td>\n",
              "    </tr>\n",
              "    <tr>\n",
              "      <th>191</th>\n",
              "      <td>1</td>\n",
              "      <td>4338.388571</td>\n",
              "      <td>3987.69</td>\n",
              "      <td>4784.10</td>\n",
              "      <td>225.006687</td>\n",
              "      <td>0.359757</td>\n",
              "      <td>-0.363043</td>\n",
              "    </tr>\n",
              "  </tbody>\n",
              "</table>\n",
              "</div>"
            ],
            "text/plain": [
              "     target_class         mean      min  ...      stddev      skew  kurtosis\n",
              "187             1  4359.560714  4017.95  ...  225.163058  0.411502 -0.298664\n",
              "188             1  4356.630000  4005.64  ...  227.065620  0.390828 -0.258577\n",
              "189             1  4346.812857  3998.46  ...  226.377595  0.388237 -0.332752\n",
              "190             1  4338.756429  3990.26  ...  225.591861  0.372586 -0.384140\n",
              "191             1  4338.388571  3987.69  ...  225.006687  0.359757 -0.363043\n",
              "\n",
              "[5 rows x 7 columns]"
            ]
          },
          "metadata": {
            "tags": []
          },
          "execution_count": 7
        }
      ]
    },
    {
      "cell_type": "code",
      "metadata": {
        "colab": {
          "base_uri": "https://localhost:8080/"
        },
        "id": "IlZaDRj-kyp6",
        "outputId": "4225e1b1-ef74-4572-84ad-257973d977bd"
      },
      "source": [
        "maxstddev=df0['stddev']\n",
        "disp_maxstddev=maxstddev.max()\n",
        "print('maxstddev',disp_maxstddev)\n",
        "maxskew=df0['skew']\n",
        "disp_maxskew=maxskew.max()\n",
        "print('maxskew',disp_maxskew)"
      ],
      "execution_count": null,
      "outputs": [
        {
          "output_type": "stream",
          "text": [
            "maxstddev 216945.44567159528\n",
            "maxskew 2.794741862457252\n"
          ],
          "name": "stdout"
        }
      ]
    },
    {
      "cell_type": "code",
      "metadata": {
        "colab": {
          "base_uri": "https://localhost:8080/",
          "height": 296
        },
        "id": "4NyK1qDOll92",
        "outputId": "e91d6637-1d81-41e1-c886-48fc51f71a2b"
      },
      "source": [
        "from matplotlib import pyplot as plt\n",
        "plt.xlabel('stddev')\n",
        "plt.ylabel('skew')\n",
        "plt.scatter(df0['stddev'],df0['skew'])"
      ],
      "execution_count": null,
      "outputs": [
        {
          "output_type": "execute_result",
          "data": {
            "text/plain": [
              "<matplotlib.collections.PathCollection at 0x7f625a4fde50>"
            ]
          },
          "metadata": {
            "tags": []
          },
          "execution_count": 9
        },
        {
          "output_type": "display_data",
          "data": {
            "image/png": "[encoded data removed]",
            "text/plain": [
              "<Figure size 432x288 with 1 Axes>"
            ]
          },
          "metadata": {
            "tags": [],
            "needs_background": "light"
          }
        }
      ]
    },
    {
      "cell_type": "code",
      "metadata": {
        "colab": {
          "base_uri": "https://localhost:8080/"
        },
        "id": "1npX1lxfln8n",
        "outputId": "bd04c195-12f4-4728-c438-e7d4e873ebe6"
      },
      "source": [
        "#Test-Train Split\n",
        "#split dataset in statistical features and target variable\n",
        "feature_cols = ['mean', 'min', 'max', 'stddev','kurtosis','skew']\n",
        "X = inputs_n[feature_cols] # Features\n",
        "y = df['target_class'] # Target variable\n",
        "print(X)"
      ],
      "execution_count": null,
      "outputs": [
        {
          "output_type": "stream",
          "text": [
            "              mean      min      max      stddev  kurtosis      skew\n",
            "0      4312.748571  4004.62  4638.97  193.848817 -0.404560  0.516201\n",
            "1      4312.160714  4006.67  4630.26  191.577798 -0.434202  0.498363\n",
            "2      4316.227143  4011.79  4632.31  190.543938 -0.438601  0.475085\n",
            "3      4316.190000  4011.79  4632.82  191.157855 -0.467151  0.466112\n",
            "4      4310.732143  4004.62  4628.21  190.916744 -0.456949  0.473246\n",
            "...            ...      ...      ...         ...       ...       ...\n",
            "14974  4291.538571  3990.26  4625.64  197.914372 -0.387546  0.612271\n",
            "14975  4287.508571  3991.79  4621.54  198.327195 -0.400887  0.644776\n",
            "14976  4287.838571  3990.77  4623.59  199.105595 -0.415883  0.641817\n",
            "14977  4293.552857  3991.79  4628.72  198.490982 -0.410967  0.616735\n",
            "14978  4298.059286  3997.44  4638.46  197.732176 -0.379600  0.623356\n",
            "\n",
            "[14979 rows x 6 columns]\n"
          ],
          "name": "stdout"
        }
      ]
    },
    {
      "cell_type": "code",
      "metadata": {
        "colab": {
          "base_uri": "https://localhost:8080/"
        },
        "id": "ELSprQlLl2c4",
        "outputId": "2a8f30bf-062b-4126-daad-8ce637c78754"
      },
      "source": [
        "from sklearn.model_selection import train_test_split\n",
        "X_train, X_test, y_train, y_test = train_test_split(X, y, test_size=0.1) # 90% training and 10% test\n",
        "print('X_train',X_train.shape)\n",
        "print('X_test',X_test.shape)\n",
        "print('y_train',y_train.shape)\n",
        "print('y_test',y_test.shape)"
      ],
      "execution_count": null,
      "outputs": [
        {
          "output_type": "stream",
          "text": [
            "X_train (13481, 6)\n",
            "X_test (1498, 6)\n",
            "y_train (13481,)\n",
            "y_test (1498,)\n"
          ],
          "name": "stdout"
        }
      ]
    },
    {
      "cell_type": "code",
      "metadata": {
        "colab": {
          "base_uri": "https://localhost:8080/"
        },
        "id": "27ESdshXoR2n",
        "outputId": "002a7598-c6a0-4c9c-bff6-dd123b867419"
      },
      "source": [
        "len(X_train)"
      ],
      "execution_count": null,
      "outputs": [
        {
          "output_type": "execute_result",
          "data": {
            "text/plain": [
              "13481"
            ]
          },
          "metadata": {
            "tags": []
          },
          "execution_count": 12
        }
      ]
    },
    {
      "cell_type": "code",
      "metadata": {
        "colab": {
          "base_uri": "https://localhost:8080/"
        },
        "id": "dwAe2CT3oV0y",
        "outputId": "6f29d323-ef12-4fe9-8a11-4b95d8fb60c2"
      },
      "source": [
        "len(X_test)"
      ],
      "execution_count": null,
      "outputs": [
        {
          "output_type": "execute_result",
          "data": {
            "text/plain": [
              "1498"
            ]
          },
          "metadata": {
            "tags": []
          },
          "execution_count": 13
        }
      ]
    },
    {
      "cell_type": "code",
      "metadata": {
        "colab": {
          "base_uri": "https://localhost:8080/"
        },
        "id": "qDvWf-_qxRB9",
        "outputId": "c2214fa8-a0dd-4f73-ce81-5bfaa5f7e178"
      },
      "source": [
        "from sklearn.svm import SVC\n",
        "svclassifier = SVC(kernel='linear')\n",
        "svclassifier.fit(X_train, y_train)\n",
        "print('Accuracy',svclassifier.score(X_test,y_test))"
      ],
      "execution_count": null,
      "outputs": [
        {
          "output_type": "stream",
          "text": [
            "Accuracy 0.5787716955941254\n"
          ],
          "name": "stdout"
        }
      ]
    },
    {
      "cell_type": "code",
      "metadata": {
        "id": "GcEir1OCVVIO"
      },
      "source": [
        "y_pred = svclassifier.predict(X_test)"
      ],
      "execution_count": null,
      "outputs": []
    },
    {
      "cell_type": "code",
      "metadata": {
        "colab": {
          "base_uri": "https://localhost:8080/"
        },
        "id": "xEMVfOEUV0_T",
        "outputId": "05af22a1-77e1-4aa2-bbde-76501b65b01a"
      },
      "source": [
        "from sklearn.metrics import classification_report, confusion_matrix\n",
        "print(confusion_matrix(y_test,y_pred))\n",
        "print(classification_report(y_test,y_pred))"
      ],
      "execution_count": null,
      "outputs": [
        {
          "output_type": "stream",
          "text": [
            "[[601 212]\n",
            " [419 266]]\n",
            "              precision    recall  f1-score   support\n",
            "\n",
            "           0       0.59      0.74      0.66       813\n",
            "           1       0.56      0.39      0.46       685\n",
            "\n",
            "    accuracy                           0.58      1498\n",
            "   macro avg       0.57      0.56      0.56      1498\n",
            "weighted avg       0.57      0.58      0.57      1498\n",
            "\n"
          ],
          "name": "stdout"
        }
      ]
    },
    {
      "cell_type": "code",
      "metadata": {
        "colab": {
          "base_uri": "https://localhost:8080/",
          "height": 295
        },
        "id": "pQ6wIb4Dt5we",
        "outputId": "220744bb-b7cf-436d-e92e-847d9ed12cbd"
      },
      "source": [
        "from sklearn.metrics import precision_recall_curve \n",
        "from sklearn.metrics import roc_curve\n",
        "import matplotlib.pyplot as plt\n",
        "precision, recall, thresholds = precision_recall_curve(y_test, y_pred)\n",
        "# create plot\n",
        "plt.plot(precision, recall, label='Precision-recall curve')\n",
        "_ = plt.xlabel('Precision')\n",
        "_ = plt.ylabel('Recall')\n",
        "_ = plt.title('Precision-recall curve')\n",
        "_ = plt.legend(loc=\"lower left\")"
      ],
      "execution_count": null,
      "outputs": [
        {
          "output_type": "display_data",
          "data": {
            "image/png": "[encoded data removed]",
            "text/plain": [
              "<Figure size 432x288 with 1 Axes>"
            ]
          },
          "metadata": {
            "tags": [],
            "needs_background": "light"
          }
        }
      ]
    },
    {
      "cell_type": "code",
      "metadata": {
        "colab": {
          "base_uri": "https://localhost:8080/",
          "height": 295
        },
        "id": "RWv5aKgwuBjq",
        "outputId": "f95c6eb4-c83d-475a-c7c8-d17d65102b63"
      },
      "source": [
        "fpr, tpr, thresholds = roc_curve(y_test, y_pred)\n",
        "# create plot\n",
        "plt.plot(fpr, tpr, label='ROC curve')\n",
        "plt.plot([0, 1], [0, 1], 'k--', label='Random guess')\n",
        "_ = plt.xlabel('False Positive Rate')\n",
        "_ = plt.ylabel('True Positive Rate')\n",
        "_ = plt.title('ROC Curve')\n",
        "_ = plt.xlim([-0.02, 1])\n",
        "_ = plt.ylim([0, 1.02])\n",
        "_ = plt.legend(loc=\"lower right\")"
      ],
      "execution_count": null,
      "outputs": [
        {
          "output_type": "display_data",
          "data": {
            "image/png": "[encoded data removed]",
            "text/plain": [
              "<Figure size 432x288 with 1 Axes>"
            ]
          },
          "metadata": {
            "tags": [],
            "needs_background": "light"
          }
        }
      ]
    }
  ]
}